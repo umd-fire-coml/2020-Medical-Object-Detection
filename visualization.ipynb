{
  "nbformat": 4,
  "nbformat_minor": 0,
  "metadata": {
    "colab": {
      "name": "visualization.ipynb",
      "provenance": []
    },
    "kernelspec": {
      "name": "python3",
      "display_name": "Python 3"
    }
  },
  "cells": [
    {
      "cell_type": "code",
      "metadata": {
        "id": "Ux7ViJXVK0gW"
      },
      "source": [
        "accuracy_train = history.history['accuracy']\n",
        "loss_train = history.history['loss']\n",
        "epochs = range(1,10)\n",
        "plt.plot(epochs, loss_train, label='Training Loss')\n",
        "plt.plot(epochs, accuracy_train, label='Training Accuracy')\n",
        "plt.plot()\n",
        "plt.title('Training Accuracy and Loss')\n",
        "plt.xlabel('Epochs')\n",
        "plt.ylabel('Accuracy and Loss')\n",
        "plt.legend((['loss', 'accuracy'], loc='upper left'))\n",
        "plt.show()"
      ],
      "execution_count": null,
      "outputs": []
    },
    {
      "cell_type": "code",
      "metadata": {
        "id": "lBT5fiVnc6Kr"
      },
      "source": [
        "loss_train = history.history['loss']\n",
        "epochs = range(1,21)\n",
        "plt.plot(epochs, loss_train, label='Training Loss')\n",
        "plt.plot()\n",
        "plt.title('Training Loss')\n",
        "plt.xlabel('Epochs')\n",
        "plt.ylabel('Loss')\n",
        "plt.legend((['loss', 'accuracy']))\n",
        "plt.show()"
      ],
      "execution_count": null,
      "outputs": []
    },
    {
      "cell_type": "code",
      "metadata": {
        "id": "fZ-ktVjwK9BK"
      },
      "source": [
        "evaluation = model.evaluate(pipeline(test_generator), batch_size=32, max_queue_size=10)"
      ],
      "execution_count": null,
      "outputs": []
    }
  ]
}