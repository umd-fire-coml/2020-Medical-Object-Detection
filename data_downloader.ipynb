{
 "cells": [
  {
   "cell_type": "code",
   "execution_count": 2,
   "metadata": {},
   "outputs": [
    {
     "ename": "ModuleNotFoundError",
     "evalue": "No module named 'keras'",
     "output_type": "error",
     "traceback": [
      "\u001b[1;31m---------------------------------------------------------------------------\u001b[0m",
      "\u001b[1;31mModuleNotFoundError\u001b[0m                       Traceback (most recent call last)",
      "\u001b[1;32m<ipython-input-2-b26c61ab59fe>\u001b[0m in \u001b[0;36m<module>\u001b[1;34m\u001b[0m\n\u001b[0;32m      1\u001b[0m \u001b[1;32mimport\u001b[0m \u001b[0murllib\u001b[0m\u001b[1;33m.\u001b[0m\u001b[0mrequest\u001b[0m\u001b[1;33m\u001b[0m\u001b[1;33m\u001b[0m\u001b[0m\n\u001b[1;32m----> 2\u001b[1;33m \u001b[1;32mimport\u001b[0m \u001b[0mkeras\u001b[0m\u001b[1;33m\u001b[0m\u001b[1;33m\u001b[0m\u001b[0m\n\u001b[0m\u001b[0;32m      3\u001b[0m \u001b[1;32mimport\u001b[0m \u001b[0mos\u001b[0m\u001b[1;33m\u001b[0m\u001b[1;33m\u001b[0m\u001b[0m\n\u001b[0;32m      4\u001b[0m \u001b[1;32mfrom\u001b[0m \u001b[0mkeras\u001b[0m\u001b[1;33m.\u001b[0m\u001b[0mutils\u001b[0m \u001b[1;32mimport\u001b[0m \u001b[0mHDF5Matrix\u001b[0m\u001b[1;33m\u001b[0m\u001b[1;33m\u001b[0m\u001b[0m\n\u001b[0;32m      5\u001b[0m \u001b[1;32mfrom\u001b[0m \u001b[0mkeras\u001b[0m\u001b[1;33m.\u001b[0m\u001b[0mutils\u001b[0m\u001b[1;33m.\u001b[0m\u001b[0mdata_utils\u001b[0m \u001b[1;32mimport\u001b[0m \u001b[0mget_file\u001b[0m\u001b[1;33m\u001b[0m\u001b[1;33m\u001b[0m\u001b[0m\n",
      "\u001b[1;31mModuleNotFoundError\u001b[0m: No module named 'keras'"
     ]
    }
   ],
   "source": [
    "import urllib.request\n",
    "import os\n",
    "from keras.utils import HDF5Matrix\n",
    "from keras.utils.data_utils import get_file"
   ]
  },
  {
   "cell_type": "code",
   "execution_count": null,
   "metadata": {},
   "outputs": [],
   "source": [
    "def get_unzip_file(fname,\n",
    "             origin,\n",
    "             untar=False,\n",
    "             md5_hash=None,\n",
    "             file_hash=None,\n",
    "             cache_subdir='datasets',\n",
    "             hash_algorithm='auto',\n",
    "             extract=False,\n",
    "             archive_format='auto',\n",
    "             cache_dir=None):\n",
    "    import gzip\n",
    "    import shutil\n",
    "    get_file()\n",
    "    with open('file.txt', 'rb') as f_in, gzip.open('file.txt.gz', 'wb') as f_out:\n",
    "        shutil.copyfileobj(f_in, f_out)"
   ]
  },
  {
   "cell_type": "code",
   "execution_count": null,
   "metadata": {},
   "outputs": [],
   "source": [
    "def load_data():\n",
    "    \"\"\"Loads PCam dataset.\n",
    "    # Returns\n",
    "        Tuple of Numpy arrays: `(x_train, y_train), (x_test, y_test)`.\n",
    "    \"\"\"\n",
    "    dirname = os.path.join('datasets', 'pcam')\n",
    "    base = 'https://drive.google.com/uc?export=download&id='\n",
    "    print(\"Start downloading...\")\n",
    "    \n",
    "    #x is pictures, y is labels\n",
    "\n",
    "    try:\n",
    "        x_train = HDF5Matrix(\n",
    "            get_file('camelyonpatch_level_2_split_train_x.h5', origin=base + '1Ka0XfEMiwgCYPdTI-vv6eUElOBnKFKQ2',\n",
    "                     cache_subdir=dirname, archive_format='gzip'), 'train_images')\n",
    "        y_train = HDF5Matrix(\n",
    "            get_file('camelyonpatch_level_2_split_train_y.h5', origin=base + '1269yhu3pZDP8UYFQs-NYs3FPwuK-nGSG',\n",
    "                     cache_subdir=dirname, archive_format='gzip'), 'train_labels')\n",
    "        x_valid = HDF5Matrix(\n",
    "            get_file('camelyonpatch_level_2_split_valid_x.h5', origin=base + '1hgshYGWK8V-eGRy8LToWJJgDU_rXWVJ3',\n",
    "                     cache_subdir=dirname, archive_format='gzip'), 'val_images')\n",
    "        y_valid = HDF5Matrix(\n",
    "            get_file('camelyonpatch_level_2_split_valid_y.h5', origin=base + '1bH8ZRbhSVAhScTS0p9-ZzGnX91cHT3uO',\n",
    "                     cache_subdir=dirname, archive_format='gzip'), 'val_labels')\n",
    "        x_test = HDF5Matrix(\n",
    "            get_file('camelyonpatch_level_2_split_test_x.h5', origin=base + '1qV65ZqZvWzuIVthK8eVDhIwrbnsJdbg_',\n",
    "                     cache_subdir=dirname, archive_format='gzip'), 'test_images')\n",
    "        y_test = HDF5Matrix(\n",
    "            get_file('camelyonpatch_level_2_split_test_y.h5', origin=base + '17BHrSrwWKjYsOgTMmoqrIjDy6Fa2o_gP',\n",
    "                     cache_subdir=dirname, archive_format='gzip'), 'test_labels')\n",
    "    except OSError:\n",
    "        raise NotImplementedError(\n",
    "            'Direct download currently not working. Please go to https://drive.google.com/drive/folders/1gHou49cA1s5vua2V5L98Lt8TiWA3FrKB and press download all.')\n",
    "\n",
    "    print(\"Download complete!\")\n",
    "\n",
    "    return (x_train, y_train), (x_valid), (x_test, y_test)"
   ]
  },
  {
   "cell_type": "code",
   "execution_count": null,
   "metadata": {},
   "outputs": [],
   "source": []
  }
 ],
 "metadata": {
  "kernelspec": {
   "display_name": "Python 3",
   "language": "python",
   "name": "python3"
  },
  "language_info": {
   "codemirror_mode": {
    "name": "ipython",
    "version": 3
   },
   "file_extension": ".py",
   "mimetype": "text/x-python",
   "name": "python",
   "nbconvert_exporter": "python",
   "pygments_lexer": "ipython3",
   "version": "3.7.4"
  }
 },
 "nbformat": 4,
 "nbformat_minor": 2
}
